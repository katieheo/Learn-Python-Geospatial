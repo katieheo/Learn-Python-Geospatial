{
 "cells": [
  {
   "cell_type": "code",
   "execution_count": 1,
   "id": "b3373753-5592-4607-be6f-ed0592bcaa4a",
   "metadata": {
    "tags": []
   },
   "outputs": [
    {
     "data": {
      "text/plain": [
       "7"
      ]
     },
     "execution_count": 1,
     "metadata": {},
     "output_type": "execute_result"
    }
   ],
   "source": [
    "3 + 4\n"
   ]
  },
  {
   "cell_type": "code",
   "execution_count": 2,
   "id": "affd31eb-d1e4-4a0f-92f0-f5ce541113f8",
   "metadata": {
    "tags": []
   },
   "outputs": [
    {
     "name": "stdout",
     "output_type": "stream",
     "text": [
      "1\n"
     ]
    }
   ],
   "source": [
    "a = 1\n",
    "b = 4\n",
    "print(a)"
   ]
  },
  {
   "cell_type": "code",
   "execution_count": 3,
   "id": "f2ab159f-b531-4673-8fc8-be0d4752c039",
   "metadata": {
    "tags": []
   },
   "outputs": [
    {
     "name": "stdout",
     "output_type": "stream",
     "text": [
      "a exists\n",
      "b exists\n",
      "a and b exist\n",
      "<class 'int'>\n",
      "<class 'float'>\n"
     ]
    },
    {
     "data": {
      "text/plain": [
       "str"
      ]
     },
     "execution_count": 3,
     "metadata": {},
     "output_type": "execute_result"
    }
   ],
   "source": [
    "a = 2\n",
    "if a:\n",
    "    print('a exists')\n",
    "b = 3\n",
    "if b:\n",
    "    print('b exists')\n",
    "if a:\n",
    "    if b:\n",
    "        print('a and b exist')\n",
    "        \n",
    "print(type(1))\n",
    "print(type(1.0))\n",
    "type('hello')"
   ]
  },
  {
   "cell_type": "code",
   "execution_count": 4,
   "id": "73fa63ef-f1e7-4ca1-96d4-4f9d9732cfa6",
   "metadata": {
    "tags": []
   },
   "outputs": [
    {
     "data": {
      "text/plain": [
       "{'becky': 'cat', 'chaoli': 'parrot', 'dan': 'dog', 'ewan': 'bunny'}"
      ]
     },
     "execution_count": 4,
     "metadata": {},
     "output_type": "execute_result"
    }
   ],
   "source": [
    "pet_list = {'alice':'cat', 'becky':'cat', 'chaoli': 'parrot', 'dan':'dog'}\n",
    "pet_list\n",
    "\n",
    "pet_list.keys()\n",
    "\n",
    "pet_list.values()\n",
    "\n",
    "pet_list['dan']\n",
    "\n",
    "pet_list['ewan'] = 'bunny'\n",
    "pet_list\n",
    "\n",
    "if 'alice' in pet_list.keys():\n",
    "    del pet_list['alice']\n",
    "pet_list\n"
   ]
  },
  {
   "cell_type": "code",
   "execution_count": 5,
   "id": "1ba7964b-6608-45ef-bcd0-d2bc8eeb2aad",
   "metadata": {
    "tags": []
   },
   "outputs": [
    {
     "data": {
      "text/plain": [
       "4.0"
      ]
     },
     "execution_count": 5,
     "metadata": {},
     "output_type": "execute_result"
    }
   ],
   "source": [
    "import math\n",
    "math.sqrt(16)"
   ]
  },
  {
   "cell_type": "code",
   "execution_count": 6,
   "id": "b4aaaeff-fedb-42fb-b766-cfb1cfa69587",
   "metadata": {
    "tags": []
   },
   "outputs": [
    {
     "name": "stdout",
     "output_type": "stream",
     "text": [
      "False\n",
      "False\n",
      "True\n",
      "a\n"
     ]
    }
   ],
   "source": [
    "a = True\n",
    "b = False\n",
    "print(a is False)\n",
    "print(b is True)\n",
    "print(b is False)\n",
    "\n",
    "a = 3\n",
    "if a:\n",
    "    print('a')\n",
    "\n",
    "b = 0\n",
    "if b:\n",
    "    print ('b')"
   ]
  },
  {
   "cell_type": "code",
   "execution_count": 7,
   "id": "a98088a7-aa8a-459a-aed2-6010eba10876",
   "metadata": {
    "tags": []
   },
   "outputs": [
    {
     "name": "stdout",
     "output_type": "stream",
     "text": [
      "hi\n",
      "hi2\n"
     ]
    }
   ],
   "source": [
    "new_line_str = 'hi\\nhi2'\n",
    "print (new_line_str)"
   ]
  },
  {
   "cell_type": "code",
   "execution_count": null,
   "id": "19efcdd4-b4be-43e5-9141-a304ffa86b9d",
   "metadata": {},
   "outputs": [],
   "source": []
  }
 ],
 "metadata": {
  "kernelspec": {
   "display_name": "Python 3 (ipykernel)",
   "language": "python",
   "name": "python3"
  },
  "language_info": {
   "codemirror_mode": {
    "name": "ipython",
    "version": 3
   },
   "file_extension": ".py",
   "mimetype": "text/x-python",
   "name": "python",
   "nbconvert_exporter": "python",
   "pygments_lexer": "ipython3",
   "version": "3.9.18"
  }
 },
 "nbformat": 4,
 "nbformat_minor": 5
}
